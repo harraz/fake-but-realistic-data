{
 "cells": [
  {
   "cell_type": "code",
   "execution_count": null,
   "metadata": {},
   "outputs": [],
   "source": [
    "from pyspark.sql import SparkSession\n",
    "# import pyarrow\n",
    "\n",
    "# Create a Spark session\n",
    "spark = SparkSession.builder.appName(\"sdv_dem\").getOrCreate()\n",
    "spark.conf.set(\"spark.sql.execution.arrow.pyspark.enabled\", \"True\")\n"
   ]
  },
  {
   "cell_type": "code",
   "execution_count": null,
   "metadata": {},
   "outputs": [],
   "source": [
    "\n",
    "import pandas as pd\n",
    "from sdv.datasets.local import load_csvs\n",
    "from sdv.metadata import SingleTableMetadata\n",
    "from sdv.single_table import GaussianCopulaSynthesizer\n",
    "\n",
    "import hashlib\n",
    "from pyspark.sql.functions import udf, col\n",
    "from pyspark.sql.types import StringType\n",
    "\n",
    "calculate_sha1_udf = udf(lambda value: hashlib.sha1(str(value).encode()).hexdigest(), StringType())\n"
   ]
  },
  {
   "cell_type": "code",
   "execution_count": null,
   "metadata": {},
   "outputs": [],
   "source": [
    "meds_file_path= '/home/harraz/my_tensorflow/venv/synthetic_phi/data/patient_test_data.csv'\n",
    "\n",
    "real_data_raw = spark.read.option('delimiter', \",\") \\\n",
    "    .option(\"header\", \"True\") \\\n",
    "    .csv(meds_file_path)\n",
    "\n",
    "real_data_raw.show(5)"
   ]
  },
  {
   "cell_type": "code",
   "execution_count": null,
   "metadata": {},
   "outputs": [],
   "source": [
    "real_data_raw = real_data_raw.withColumn(\"hashed_id\", calculate_sha1_udf(col(\"patientid\")))\n",
    "real_data_raw.show(5)"
   ]
  },
  {
   "cell_type": "code",
   "execution_count": null,
   "metadata": {},
   "outputs": [],
   "source": [
    "real_data = real_data_raw.toPandas()\n",
    "\n",
    "# Create metadata\n",
    "metadata = SingleTableMetadata()\n",
    "metadata.detect_from_dataframe(real_data)\n",
    "\n",
    "# Convert metadata to a dictionary\n",
    "metadata_dict = metadata.to_dict()\n",
    "# Access the 'columns' dictionary from the resulting dictionary\n",
    "columns_dict = metadata_dict.get('columns', {})\n",
    "# Extract column names from the 'columns' dictionary\n",
    "found_column_names = columns_dict.keys()\n",
    "\n",
    "# Update the PII flag\n",
    "# metadata.update_column(\n",
    "#     column_name='patientid',\n",
    "#     sdtype='id',\n",
    "#     regex_format='ID_[0-9]{5}')\n",
    "\n",
    "print(metadata)\n",
    "\n",
    "# Synthesize data\n",
    "synthesizer = GaussianCopulaSynthesizer(metadata)"
   ]
  },
  {
   "cell_type": "code",
   "execution_count": null,
   "metadata": {},
   "outputs": [],
   "source": [
    "import warnings\n",
    "\n",
    "# Suppress the FutureWarning from the specified module\n",
    "warnings.filterwarnings(\"ignore\", message=\"The behavior of Series.replace.*\", module=\"rdt.transformers.categorical\")\n",
    "warnings.filterwarnings(\"ignore\", message=\"Downcasting object dtype arrays.*\", module=\"rdt.transformers.utils\")\n",
    "\n",
    "\n",
    "# Train the synthesizer\n",
    "synthesizer.fit(real_data)\n",
    "\n",
    "# Generate synthetic data\n",
    "synthetic_data = synthesizer.sample(num_rows=10)\n",
    "\n",
    "synthetic_data.drop(columns=['patientid'], inplace=True)\n",
    "hashed_id_column = synthetic_data.pop('hashed_id')  # Remove the column and store it\n",
    "\n",
    "# Insert the column back into the DataFrame at the first position\n",
    "synthetic_data.insert(0, 'hashed_id', hashed_id_column)\n"
   ]
  },
  {
   "cell_type": "code",
   "execution_count": null,
   "metadata": {},
   "outputs": [],
   "source": [
    "synthetic_data.to_csv('./data/fake_patients.csv', sep='|', lineterminator='\\n', mode='w', index=False)"
   ]
  }
 ],
 "metadata": {
  "kernelspec": {
   "display_name": "venv",
   "language": "python",
   "name": "python3"
  },
  "language_info": {
   "codemirror_mode": {
    "name": "ipython",
    "version": 3
   },
   "file_extension": ".py",
   "mimetype": "text/x-python",
   "name": "python",
   "nbconvert_exporter": "python",
   "pygments_lexer": "ipython3",
   "version": "3.11.2"
  }
 },
 "nbformat": 4,
 "nbformat_minor": 2
}
